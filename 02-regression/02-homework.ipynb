{
 "cells": [
  {
   "cell_type": "markdown",
   "id": "b2a6ce48-a642-4aa3-8c42-c96a7603b529",
   "metadata": {},
   "source": [
    "### Getting the data"
   ]
  },
  {
   "cell_type": "markdown",
   "id": "192b9821-8433-444e-9940-da8d3f9dde05",
   "metadata": {},
   "source": [
    "For this homework, we will download the Car Fuel Efficiency dataset:"
   ]
  },
  {
   "cell_type": "code",
   "execution_count": 1,
   "id": "ba727153-2ce5-4357-9d8a-3dcb53152dcf",
   "metadata": {},
   "outputs": [
    {
     "name": "stdout",
     "output_type": "stream",
     "text": [
      "--2025-10-04 08:33:41--  https://raw.githubusercontent.com/alexeygrigorev/datasets/master/car_fuel_efficiency.csv\n",
      "Resolving raw.githubusercontent.com (raw.githubusercontent.com)... 185.199.110.133, 185.199.111.133, 185.199.108.133, ...\n",
      "Connecting to raw.githubusercontent.com (raw.githubusercontent.com)|185.199.110.133|:443... connected.\n",
      "HTTP request sent, awaiting response... 200 OK\n",
      "Length: 874188 (854K) [text/plain]\n",
      "Saving to: ‘car_fuel_efficiency.csv’\n",
      "\n",
      "car_fuel_efficiency 100%[===================>] 853.70K  --.-KB/s    in 0.006s  \n",
      "\n",
      "2025-10-04 08:33:42 (149 MB/s) - ‘car_fuel_efficiency.csv’ saved [874188/874188]\n",
      "\n"
     ]
    }
   ],
   "source": [
    "!wget https://raw.githubusercontent.com/alexeygrigorev/datasets/master/car_fuel_efficiency.csv"
   ]
  },
  {
   "cell_type": "markdown",
   "id": "49b51bb4-4a7d-49b9-a296-3d34f765153e",
   "metadata": {},
   "source": [
    "### Preparing the dataset "
   ]
  },
  {
   "cell_type": "code",
   "execution_count": null,
   "id": "38966bb6-6552-48d5-b1a8-3b2223888ba0",
   "metadata": {},
   "outputs": [],
   "source": [
    "# Import libraries \n",
    "import pandas as pd \n",
    "import numpy as np\n",
    "\n",
    "# Visualizations\n",
    "import matplotlib.pyplot as plt\n",
    "import seaborn as sns\n",
    "\n",
    "%matplotlib inline"
   ]
  },
  {
   "cell_type": "code",
   "execution_count": 34,
   "id": "36fcb33a-75ab-4594-925d-0e01b1c9697a",
   "metadata": {},
   "outputs": [],
   "source": [
    "car_fuel = pd.read_csv('car_fuel_efficiency.csv')"
   ]
  },
  {
   "cell_type": "markdown",
   "id": "483eb50c-02b9-43c4-85ab-d713dfe09bc1",
   "metadata": {},
   "source": [
    "The goal of this homework is to create a regression model for predicting the car fuel efficiency (column `fuel_efficiency_mpg`)."
   ]
  },
  {
   "cell_type": "markdown",
   "id": "9dce7c32-0df9-4191-bb80-554539814f8f",
   "metadata": {},
   "source": [
    "We only use the following columns:\n",
    "- `engine_displacement`\n",
    "- `horsepower`\n",
    "- `vehicle_weight`\n",
    "- `model_year`\n",
    "- `fuel_efficiency_mpg`"
   ]
  },
  {
   "cell_type": "code",
   "execution_count": 35,
   "id": "9e476fb8-fded-4363-a57f-a16194fe6026",
   "metadata": {},
   "outputs": [
    {
     "data": {
      "text/html": [
       "<div>\n",
       "<style scoped>\n",
       "    .dataframe tbody tr th:only-of-type {\n",
       "        vertical-align: middle;\n",
       "    }\n",
       "\n",
       "    .dataframe tbody tr th {\n",
       "        vertical-align: top;\n",
       "    }\n",
       "\n",
       "    .dataframe thead th {\n",
       "        text-align: right;\n",
       "    }\n",
       "</style>\n",
       "<table border=\"1\" class=\"dataframe\">\n",
       "  <thead>\n",
       "    <tr style=\"text-align: right;\">\n",
       "      <th></th>\n",
       "      <th>engine_displacement</th>\n",
       "      <th>horsepower</th>\n",
       "      <th>vehicle_weight</th>\n",
       "      <th>model_year</th>\n",
       "      <th>fuel_efficiency_mpg</th>\n",
       "    </tr>\n",
       "  </thead>\n",
       "  <tbody>\n",
       "    <tr>\n",
       "      <th>0</th>\n",
       "      <td>170</td>\n",
       "      <td>159.0</td>\n",
       "      <td>3413.433759</td>\n",
       "      <td>2003</td>\n",
       "      <td>13.231729</td>\n",
       "    </tr>\n",
       "    <tr>\n",
       "      <th>1</th>\n",
       "      <td>130</td>\n",
       "      <td>97.0</td>\n",
       "      <td>3149.664934</td>\n",
       "      <td>2007</td>\n",
       "      <td>13.688217</td>\n",
       "    </tr>\n",
       "    <tr>\n",
       "      <th>2</th>\n",
       "      <td>170</td>\n",
       "      <td>78.0</td>\n",
       "      <td>3079.038997</td>\n",
       "      <td>2018</td>\n",
       "      <td>14.246341</td>\n",
       "    </tr>\n",
       "    <tr>\n",
       "      <th>3</th>\n",
       "      <td>220</td>\n",
       "      <td>NaN</td>\n",
       "      <td>2542.392402</td>\n",
       "      <td>2009</td>\n",
       "      <td>16.912736</td>\n",
       "    </tr>\n",
       "    <tr>\n",
       "      <th>4</th>\n",
       "      <td>210</td>\n",
       "      <td>140.0</td>\n",
       "      <td>3460.870990</td>\n",
       "      <td>2009</td>\n",
       "      <td>12.488369</td>\n",
       "    </tr>\n",
       "  </tbody>\n",
       "</table>\n",
       "</div>"
      ],
      "text/plain": [
       "   engine_displacement  horsepower  vehicle_weight  model_year  \\\n",
       "0                  170       159.0     3413.433759        2003   \n",
       "1                  130        97.0     3149.664934        2007   \n",
       "2                  170        78.0     3079.038997        2018   \n",
       "3                  220         NaN     2542.392402        2009   \n",
       "4                  210       140.0     3460.870990        2009   \n",
       "\n",
       "   fuel_efficiency_mpg  \n",
       "0            13.231729  \n",
       "1            13.688217  \n",
       "2            14.246341  \n",
       "3            16.912736  \n",
       "4            12.488369  "
      ]
     },
     "execution_count": 35,
     "metadata": {},
     "output_type": "execute_result"
    }
   ],
   "source": [
    "df = car_fuel[['engine_displacement','horsepower', 'vehicle_weight', 'model_year', 'fuel_efficiency_mpg']]\n",
    "df.head()"
   ]
  },
  {
   "cell_type": "markdown",
   "id": "c7e24c62-5cd5-4055-91e9-42c086bc1fec",
   "metadata": {},
   "source": [
    "### EDA"
   ]
  },
  {
   "cell_type": "markdown",
   "id": "610131c2-1811-4bf4-b153-f6408d0fc1c5",
   "metadata": {},
   "source": [
    "Now we investigate the `fuel_efficiency_mpg` variable."
   ]
  },
  {
   "cell_type": "code",
   "execution_count": 5,
   "id": "1cbc8341-bb1e-4a48-8a7d-ac62e2af8128",
   "metadata": {},
   "outputs": [
    {
     "data": {
      "text/plain": [
       "[Text(0.5, 1.0, 'Fuel Efficiency Distribution')]"
      ]
     },
     "execution_count": 5,
     "metadata": {},
     "output_type": "execute_result"
    },
    {
     "data": {
      "image/png": "[encoded data removed]",
      "text/plain": [
       "<Figure size 640x480 with 1 Axes>"
      ]
     },
     "metadata": {},
     "output_type": "display_data"
    }
   ],
   "source": [
    "sns.histplot(df['fuel_efficiency_mpg']).set(title='Fuel Efficiency Distribution')"
   ]
  },
  {
   "cell_type": "markdown",
   "id": "abefb5a2-8d42-4435-8832-142ee7a523e0",
   "metadata": {},
   "source": [
    "Does it have a long tail? **No**, it looks approxiamtely normal and does not have a clear long tail."
   ]
  },
  {
   "cell_type": "markdown",
   "id": "f4e54a02-145a-421a-b27c-67aea7c523f7",
   "metadata": {},
   "source": [
    "### Question 1"
   ]
  },
  {
   "cell_type": "markdown",
   "id": "82940bfa-a5fd-4c5f-8bc1-fca45025661f",
   "metadata": {},
   "source": [
    "Next, we inspect the **missing values** statistics:"
   ]
  },
  {
   "cell_type": "code",
   "execution_count": 6,
   "id": "386c7876-c5e5-4679-a62c-4d407a18e681",
   "metadata": {},
   "outputs": [
    {
     "data": {
      "text/plain": [
       "engine_displacement      0\n",
       "horsepower             708\n",
       "vehicle_weight           0\n",
       "model_year               0\n",
       "fuel_efficiency_mpg      0\n",
       "dtype: int64"
      ]
     },
     "execution_count": 6,
     "metadata": {},
     "output_type": "execute_result"
    }
   ],
   "source": [
    "df.isnull().sum()"
   ]
  },
  {
   "cell_type": "markdown",
   "id": "f043453e-a059-4687-969c-6af09a411ca0",
   "metadata": {},
   "source": [
    "It is clear that only one column has a fairly high number of missing values so let's answer the question:"
   ]
  },
  {
   "cell_type": "markdown",
   "id": "e4ab8429-0652-4c58-aca4-4be395c5821b",
   "metadata": {},
   "source": [
    "There's one column with missing values. What is it? **`horsepower`**"
   ]
  },
  {
   "cell_type": "markdown",
   "id": "dcecf4c5-ad9a-4432-8ecf-df634b6406ef",
   "metadata": {},
   "source": [
    "### Question 2"
   ]
  },
  {
   "cell_type": "code",
   "execution_count": 7,
   "id": "a37ae6b2-9cfa-46e5-a899-98a57693efac",
   "metadata": {},
   "outputs": [
    {
     "data": {
      "text/plain": [
       "np.float64(149.0)"
      ]
     },
     "execution_count": 7,
     "metadata": {},
     "output_type": "execute_result"
    }
   ],
   "source": [
    "df['horsepower'].quantile(0.5)"
   ]
  },
  {
   "cell_type": "markdown",
   "id": "ccb20a45-5748-437d-8d7f-70179f0147e2",
   "metadata": {},
   "source": [
    "What's the median (50% percentile) for variable `horsepower`? **149.0**"
   ]
  },
  {
   "cell_type": "markdown",
   "id": "4dc9345f-8543-45f1-9a17-27ccca18dffb",
   "metadata": {},
   "source": [
    "#### Prepare and split the dataset"
   ]
  },
  {
   "cell_type": "markdown",
   "id": "2d84c461-01d6-4f7b-bbfe-25b9ab9719df",
   "metadata": {},
   "source": [
    "- Shuffle the dataset (the filtered one you created above), use seed `42`.\n",
    "- Split your data in train/val/test sets, with 60%/20%/20% distribution."
   ]
  },
  {
   "cell_type": "code",
   "execution_count": 36,
   "id": "b3e1b77d-a321-49d1-aa08-d8b1e15688be",
   "metadata": {},
   "outputs": [
    {
     "data": {
      "text/plain": [
       "(1940, 1940, 5824)"
      ]
     },
     "execution_count": 36,
     "metadata": {},
     "output_type": "execute_result"
    }
   ],
   "source": [
    "n = len(df) \n",
    "\n",
    "n_val = int(n * 0.2)\n",
    "n_test = int(n * 0.2)\n",
    "n_train = n - n_val - n_test \n",
    "\n",
    "n_val, n_test, n_train"
   ]
  },
  {
   "cell_type": "code",
   "execution_count": 37,
   "id": "a530d7a0-7a97-45d4-a7ed-d65850d0abc1",
   "metadata": {},
   "outputs": [
    {
     "data": {
      "text/plain": [
       "array([   0,    1,    2, ..., 9701, 9702, 9703], shape=(9704,))"
      ]
     },
     "execution_count": 37,
     "metadata": {},
     "output_type": "execute_result"
    }
   ],
   "source": [
    "idx = np.arange(n)\n",
    "idx"
   ]
  },
  {
   "cell_type": "code",
   "execution_count": 38,
   "id": "f716157f-9f01-4310-8764-8b7b870824ac",
   "metadata": {},
   "outputs": [],
   "source": [
    "np.random.seed(42)\n",
    "np.random.shuffle(idx)"
   ]
  },
  {
   "cell_type": "code",
   "execution_count": 39,
   "id": "8fb6a3be-4e4a-4171-b695-d8268c5556ec",
   "metadata": {},
   "outputs": [],
   "source": [
    "df_train = df.iloc[idx[:n_train]]\n",
    "df_val = df.iloc[idx[n_train:n_train+n_val]]\n",
    "df_test = df.iloc[idx[n_train+n_val:]]"
   ]
  },
  {
   "cell_type": "code",
   "execution_count": 40,
   "id": "d64fecb3-a3e2-4d22-9b56-34f736770519",
   "metadata": {},
   "outputs": [
    {
     "data": {
      "text/plain": [
       "(5824, 1940, 1940)"
      ]
     },
     "execution_count": 40,
     "metadata": {},
     "output_type": "execute_result"
    }
   ],
   "source": [
    "len(df_train), len(df_val), len(df_test)"
   ]
  },
  {
   "cell_type": "code",
   "execution_count": 41,
   "id": "f076b7a6-0955-49fc-b08f-a94837138d40",
   "metadata": {},
   "outputs": [],
   "source": [
    "df_train = df_train.reset_index(drop=True)\n",
    "df_val = df_val.reset_index(drop=True)\n",
    "df_test = df_test.reset_index(drop=True)"
   ]
  },
  {
   "cell_type": "code",
   "execution_count": 42,
   "id": "a62f7d80-fda6-4edf-9655-6e090f6942c0",
   "metadata": {},
   "outputs": [],
   "source": [
    "y_train = np.log1p(df_train['fuel_efficiency_mpg'].values)\n",
    "y_val = np.log1p(df_val['fuel_efficiency_mpg'].values)\n",
    "y_test = np.log1p(df_test['fuel_efficiency_mpg'].values)"
   ]
  },
  {
   "cell_type": "code",
   "execution_count": 43,
   "id": "01b830e0-04e7-4a40-b8b2-d865e98ece4f",
   "metadata": {},
   "outputs": [],
   "source": [
    "del df_train['fuel_efficiency_mpg']\n",
    "del df_val['fuel_efficiency_mpg']\n",
    "del df_test['fuel_efficiency_mpg']"
   ]
  },
  {
   "cell_type": "code",
   "execution_count": 44,
   "id": "a9855d76-7b78-4711-beb0-512b78924dbf",
   "metadata": {},
   "outputs": [
    {
     "data": {
      "text/plain": [
       "(5824, 1940, 1940)"
      ]
     },
     "execution_count": 44,
     "metadata": {},
     "output_type": "execute_result"
    }
   ],
   "source": [
    "len(y_train), len(y_val), len(y_test)"
   ]
  },
  {
   "cell_type": "markdown",
   "id": "1ecc91f4-50a8-4b79-b841-63abe27af778",
   "metadata": {},
   "source": [
    "### Question 3"
   ]
  },
  {
   "cell_type": "markdown",
   "id": "b33afe62-fea0-45e6-a4e0-88271b3e5204",
   "metadata": {},
   "source": [
    "Now we deal with **missing values** for the column from Q1 with two options: \n",
    "- Fill it with `0` or \n",
    "- Fill it with the `mean` of this variable.\n",
    "\n",
    "Specifically, we will try both options; each will be trained a **_linear regression model_**.\n",
    "\n",
    "**Note:** \n",
    "- For computing the mean, use the training only!\n",
    "- Use the validation dataset to evaluate the models and compare the `RMSE` of each option.\n",
    "- Round the `RMSE` scores to 2 decimal digits using round(score, 2) to point out better option."
   ]
  },
  {
   "cell_type": "markdown",
   "id": "c72bd2b5-ba80-44f9-b879-17bff787d469",
   "metadata": {},
   "source": [
    "The `train_linear_regression` and `rmse` function from the lessons:"
   ]
  },
  {
   "cell_type": "code",
   "execution_count": 45,
   "id": "b99ab405-2f39-4d75-a044-9ed720e9293b",
   "metadata": {},
   "outputs": [],
   "source": [
    "def train_linear_regression(X, y):\n",
    "    ones = np.ones(X.shape[0])\n",
    "    X = np.column_stack([ones, X])\n",
    "\n",
    "    XTX = X.T.dot(X)\n",
    "    XTX_inv = np.linalg.inv(XTX)\n",
    "    w_full = XTX_inv.dot(X.T).dot(y)\n",
    "    \n",
    "    return w_full[0], w_full[1:]\n",
    "\n",
    "def rmse(y, y_pred):\n",
    "    se = (y - y_pred) ** 2\n",
    "    mse = se.mean()\n",
    "    return np.sqrt(mse)"
   ]
  },
  {
   "cell_type": "markdown",
   "id": "84e9089e-200b-4bc3-adb2-3f4a7ad248fb",
   "metadata": {},
   "source": [
    "#### Option 1: Fill missing values with 0"
   ]
  },
  {
   "cell_type": "markdown",
   "id": "52a1ac92-5ce1-48d8-919c-e6dd314d30fc",
   "metadata": {},
   "source": [
    "Fill missing horsepower with 0"
   ]
  },
  {
   "cell_type": "code",
   "execution_count": 46,
   "id": "c1ab15f4-da14-4a51-aa4e-cd5d39f7ef21",
   "metadata": {},
   "outputs": [],
   "source": [
    "X_train_0 = df_train.fillna({'horsepower': 0})\n",
    "X_val_0 = df_val.fillna({'horsepower': 0})"
   ]
  },
  {
   "cell_type": "code",
   "execution_count": 47,
   "id": "0d8f7cd8-9aa3-4edb-a880-4a6375b0f528",
   "metadata": {},
   "outputs": [],
   "source": [
    "# Train model\n",
    "w_0, w = train_linear_regression(X_train_0.values, y_train)"
   ]
  },
  {
   "cell_type": "code",
   "execution_count": 48,
   "id": "9ac29d84-f0eb-4db0-8c29-d8a43fd67b11",
   "metadata": {},
   "outputs": [],
   "source": [
    "y_pred_0 = w_0 + X_val_0.dot(w)"
   ]
  },
  {
   "cell_type": "code",
   "execution_count": 55,
   "id": "b778fa3d-6b92-4553-b070-4722823a9179",
   "metadata": {},
   "outputs": [
    {
     "data": {
      "text/plain": [
       "<Axes: ylabel='Count'>"
      ]
     },
     "execution_count": 55,
     "metadata": {},
     "output_type": "execute_result"
    },
    {
     "data": {
      "image/png": "[encoded data removed]",
      "text/plain": [
       "<Figure size 640x480 with 1 Axes>"
      ]
     },
     "metadata": {},
     "output_type": "display_data"
    }
   ],
   "source": [
    "sns.histplot(y_pred_0, color='red', alpha=0.5, bins=50)\n",
    "sns.histplot(y_val, color='blue', alpha=0.5, bins=50)"
   ]
  },
  {
   "cell_type": "code",
   "execution_count": 58,
   "id": "d8b38725-aed3-4bc5-b733-7ec560206ab0",
   "metadata": {},
   "outputs": [],
   "source": [
    "rmse_0 = rmse(y_val, y_pred_0)"
   ]
  },
  {
   "cell_type": "markdown",
   "id": "d4e90b47-256f-472c-8487-718d2260d5c5",
   "metadata": {},
   "source": [
    "#### Option 2: Fill missing values with Means"
   ]
  },
  {
   "cell_type": "markdown",
   "id": "62d94a13-8a91-4143-a0d0-8c57921f65bc",
   "metadata": {},
   "source": [
    "Fill NaN with the mean horsepower"
   ]
  },
  {
   "cell_type": "code",
   "execution_count": 52,
   "id": "129de472-a91b-442d-b26a-02a4b2949301",
   "metadata": {},
   "outputs": [],
   "source": [
    "mean_hp = df_train['horsepower'].mean()\n",
    "\n",
    "X_train_mean = df_train.fillna({'horsepower': mean_hp})\n",
    "X_val_mean = df_val.fillna({'horsepower': mean_hp})"
   ]
  },
  {
   "cell_type": "code",
   "execution_count": 53,
   "id": "e2226517-d1a4-4c59-a6f7-ae5da1507b81",
   "metadata": {},
   "outputs": [],
   "source": [
    "# Train model\n",
    "w_mean, w = train_linear_regression(X_train_mean.values, y_train)"
   ]
  },
  {
   "cell_type": "code",
   "execution_count": 54,
   "id": "cddc94c7-555e-4de6-af3d-edd563d2bb09",
   "metadata": {},
   "outputs": [],
   "source": [
    "y_pred_mean = w_mean + X_val_mean.dot(w)"
   ]
  },
  {
   "cell_type": "code",
   "execution_count": 56,
   "id": "0380a441-4d60-4469-be5d-5402f641ac9f",
   "metadata": {},
   "outputs": [
    {
     "data": {
      "text/plain": [
       "<Axes: ylabel='Count'>"
      ]
     },
     "execution_count": 56,
     "metadata": {},
     "output_type": "execute_result"
    },
    {
     "data": {
      "image/png": "[encoded data removed]",
      "text/plain": [
       "<Figure size 640x480 with 1 Axes>"
      ]
     },
     "metadata": {},
     "output_type": "display_data"
    }
   ],
   "source": [
    "sns.histplot(y_pred_mean, color='red', alpha=0.5, bins=50)\n",
    "sns.histplot(y_val, color='blue', alpha=0.5, bins=50)"
   ]
  },
  {
   "cell_type": "code",
   "execution_count": 59,
   "id": "4b139a8c-3103-4f9d-ad62-9eea77bdbcc5",
   "metadata": {},
   "outputs": [],
   "source": [
    "rmse_mean = rmse(y_val, y_pred_mean)"
   ]
  },
  {
   "cell_type": "code",
   "execution_count": 60,
   "id": "dd333284-4610-4273-aa2b-01354e5e538a",
   "metadata": {},
   "outputs": [
    {
     "name": "stdout",
     "output_type": "stream",
     "text": [
      "RMSE (fill=0): 0.04\n",
      "RMSE (fill=mean): 0.04\n"
     ]
    }
   ],
   "source": [
    "print(\"RMSE (fill=0):\", round(rmse_0, 2))\n",
    "print(\"RMSE (fill=mean):\", round(rmse_mean, 2))"
   ]
  },
  {
   "cell_type": "markdown",
   "id": "5b8e8a1b-3aa6-4512-9272-6ff5e6203b25",
   "metadata": {},
   "source": [
    "Based on the perfomance outcomes, we can now answer the question: \n",
    "\n",
    "Which option gives better RMSE? **Both are equally good**"
   ]
  },
  {
   "cell_type": "markdown",
   "id": "b5a730fc-3215-4227-aa79-90dc294bc805",
   "metadata": {},
   "source": [
    "### Question 4"
   ]
  },
  {
   "cell_type": "code",
   "execution_count": null,
   "id": "2630a06f-ea0c-4399-87c5-bc402ba21886",
   "metadata": {},
   "outputs": [],
   "source": []
  }
 ],
 "metadata": {
  "kernelspec": {
   "display_name": "Python 3 (ipykernel)",
   "language": "python",
   "name": "python3"
  },
  "language_info": {
   "codemirror_mode": {
    "name": "ipython",
    "version": 3
   },
   "file_extension": ".py",
   "mimetype": "text/x-python",
   "name": "python",
   "nbconvert_exporter": "python",
   "pygments_lexer": "ipython3",
   "version": "3.12.1"
  }
 },
 "nbformat": 4,
 "nbformat_minor": 5
}
