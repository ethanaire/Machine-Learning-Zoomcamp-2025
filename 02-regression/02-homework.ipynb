{
 "cells": [
  {
   "cell_type": "markdown",
   "id": "b2a6ce48-a642-4aa3-8c42-c96a7603b529",
   "metadata": {},
   "source": [
    "### Getting the data"
   ]
  },
  {
   "cell_type": "markdown",
   "id": "192b9821-8433-444e-9940-da8d3f9dde05",
   "metadata": {},
   "source": [
    "For this homework, we will download the Car Fuel Efficiency dataset:"
   ]
  },
  {
   "cell_type": "code",
   "execution_count": null,
   "id": "ba727153-2ce5-4357-9d8a-3dcb53152dcf",
   "metadata": {},
   "outputs": [],
   "source": [
    "!wget https://raw.githubusercontent.com/alexeygrigorev/datasets/master/car_fuel_efficiency.csv"
   ]
  },
  {
   "cell_type": "code",
   "execution_count": null,
   "id": "36fcb33a-75ab-4594-925d-0e01b1c9697a",
   "metadata": {},
   "outputs": [],
   "source": [
    "car_fuel = pd.read_csv('car_fuel_efficiency.csv')"
   ]
  },
  {
   "cell_type": "markdown",
   "id": "483eb50c-02b9-43c4-85ab-d713dfe09bc1",
   "metadata": {},
   "source": [
    "The goal of this homework is to create a regression model for predicting the car fuel efficiency (column 'fuel_efficiency_mpg')."
   ]
  },
  {
   "cell_type": "markdown",
   "id": "49b51bb4-4a7d-49b9-a296-3d34f765153e",
   "metadata": {},
   "source": [
    "#### Preparing the dataset "
   ]
  },
  {
   "cell_type": "code",
   "execution_count": null,
   "id": "9e476fb8-fded-4363-a57f-a16194fe6026",
   "metadata": {},
   "outputs": [],
   "source": [
    "df = car_fuel[['engine_displacement','horsepower', 'vehicle_weight', 'model_year', 'fuel_efficiency_mpg']]"
   ]
  }
 ],
 "metadata": {
  "kernelspec": {
   "display_name": "Python 3 (ipykernel)",
   "language": "python",
   "name": "python3"
  },
  "language_info": {
   "codemirror_mode": {
    "name": "ipython",
    "version": 3
   },
   "file_extension": ".py",
   "mimetype": "text/x-python",
   "name": "python",
   "nbconvert_exporter": "python",
   "pygments_lexer": "ipython3",
   "version": "3.12.1"
  }
 },
 "nbformat": 4,
 "nbformat_minor": 5
}
